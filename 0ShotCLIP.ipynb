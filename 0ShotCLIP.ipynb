{
 "cells": [
  {
   "cell_type": "code",
   "execution_count": 1,
   "metadata": {},
   "outputs": [],
   "source": [
    "import os\n",
    "import clip\n",
    "import torch\n",
    "\n",
    "import numpy as np\n",
    "from sklearn.linear_model import LogisticRegression\n",
    "from sklearn.metrics import f1_score, precision_score, recall_score\n",
    "from torch.utils.data import DataLoader\n",
    "from tqdm import tqdm\n",
    "from torchvision.datasets import ImageFolder"
   ]
  },
  {
   "cell_type": "code",
   "execution_count": 2,
   "metadata": {},
   "outputs": [],
   "source": [
    "# Load the model\n",
    "device = \"cuda\" if torch.cuda.is_available() else \"cpu\"\n",
    "model, preprocess = clip.load('ViT-B/32', device)"
   ]
  },
  {
   "cell_type": "code",
   "execution_count": 11,
   "metadata": {},
   "outputs": [],
   "source": [
    "labels = clip.tokenize([\"a photo of a potato plant leaf infected with early blight\", \"a photo of a potato plant leaf infected with late blight\", \"a photo of a healthy potato plant leaf\"]).to(device)"
   ]
  },
  {
   "cell_type": "code",
   "execution_count": 9,
   "metadata": {},
   "outputs": [
    {
     "name": "stderr",
     "output_type": "stream",
     "text": [
      "  0%|          | 0/33 [00:00<?, ?it/s]"
     ]
    },
    {
     "name": "stderr",
     "output_type": "stream",
     "text": [
      "100%|██████████| 33/33 [00:08<00:00,  3.98it/s]\n",
      "100%|██████████| 5/5 [00:01<00:00,  4.93it/s]\n",
      "100%|██████████| 5/5 [00:01<00:00,  4.84it/s]\n"
     ]
    }
   ],
   "source": [
    "# Load the dataset\n",
    "root = os.path.expanduser(\"~/.cache\")\n",
    "\n",
    "train = ImageFolder('/home/jmunoz/CLIP/PLD_3_Classes_256/Training', transform=preprocess)\n",
    "\n",
    "test = ImageFolder('/home/jmunoz/CLIP/PLD_3_Classes_256/Testing', transform=preprocess)\n",
    "\n",
    "validation = ImageFolder('/home/jmunoz/CLIP/PLD_3_Classes_256/Validation', transform=preprocess)\n",
    "\n",
    "\n",
    "\n",
    "\n",
    "def get_features(dataset):\n",
    "    all_features = []\n",
    "    all_labels = []\n",
    "    \n",
    "    with torch.no_grad():\n",
    "        for images, labels in tqdm(DataLoader(dataset, batch_size=100)):\n",
    "            features = model.encode_image(images.to(device))\n",
    "\n",
    "            all_features.append(features)\n",
    "            all_labels.append(labels)\n",
    "\n",
    "    return torch.cat(all_features), torch.cat(all_labels).cpu().numpy()\n",
    "\n",
    "\n",
    "# Calculate the image features\n",
    "train_features, train_labels = get_features(train)\n",
    "test_features, test_labels = get_features(test)\n",
    "val_features, val_labels = get_features(validation)"
   ]
  },
  {
   "cell_type": "code",
   "execution_count": 43,
   "metadata": {},
   "outputs": [],
   "source": [
    "text_features = model.encode_text(labels)\n",
    "train_features /= train_features.norm(dim=-1, keepdim=True)\n",
    "text_features /= text_features.norm(dim=-1, keepdim=True)\n",
    "similarity = (100.0 * train_features @ text_features.T).softmax(dim=-1)\n",
    "predicted_labels = similarity.argmax(dim=-1).cpu().numpy()"
   ]
  },
  {
   "cell_type": "code",
   "execution_count": 45,
   "metadata": {},
   "outputs": [
    {
     "name": "stdout",
     "output_type": "stream",
     "text": [
      "Accuracy = 29.191\n"
     ]
    }
   ],
   "source": [
    "accuracy = np.mean((train_labels == predicted_labels).astype(float)) * 100.\n",
    "print(f\"Accuracy = {accuracy:.3f}\")"
   ]
  },
  {
   "cell_type": "code",
   "execution_count": 46,
   "metadata": {},
   "outputs": [
    {
     "name": "stdout",
     "output_type": "stream",
     "text": [
      "F1 = 0.167\n",
      "Precision = 0.130\n",
      "Recall = 0.246\n"
     ]
    }
   ],
   "source": [
    "# Calculate F1, precision, recall\n",
    "\n",
    "f1 = f1_score(train_labels, predicted_labels, average='macro')\n",
    "precision = precision_score(train_labels, predicted_labels, average='macro')\n",
    "recall = recall_score(train_labels, predicted_labels, average='macro')\n",
    "\n",
    "print(f\"F1 = {f1:.3f}\")\n",
    "print(f\"Precision = {precision:.3f}\")\n",
    "print(f\"Recall = {recall:.3f}\")"
   ]
  }
 ],
 "metadata": {
  "kernelspec": {
   "display_name": "CLIP",
   "language": "python",
   "name": "python3"
  },
  "language_info": {
   "codemirror_mode": {
    "name": "ipython",
    "version": 3
   },
   "file_extension": ".py",
   "mimetype": "text/x-python",
   "name": "python",
   "nbconvert_exporter": "python",
   "pygments_lexer": "ipython3",
   "version": "3.10.14"
  }
 },
 "nbformat": 4,
 "nbformat_minor": 2
}
